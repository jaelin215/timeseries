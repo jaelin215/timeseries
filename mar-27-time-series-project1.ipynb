{
 "cells": [
  {
   "cell_type": "markdown",
   "id": "3e728311",
   "metadata": {
    "papermill": {
     "duration": 0.039746,
     "end_time": "2022-03-28T00:49:08.120621",
     "exception": false,
     "start_time": "2022-03-28T00:49:08.080875",
     "status": "completed"
    },
    "tags": []
   },
   "source": [
    "# Time Series Forecasting in Python:"
   ]
  },
  {
   "cell_type": "markdown",
   "id": "fed12e74",
   "metadata": {
    "papermill": {
     "duration": 0.036889,
     "end_time": "2022-03-28T00:49:08.196925",
     "exception": false,
     "start_time": "2022-03-28T00:49:08.160036",
     "status": "completed"
    },
    "tags": []
   },
   "source": [
    "## Objective:\n",
    "\n",
    "* Combine, clean, and prepare the energy and temperature datasets for exploration and modeling. We will use the combined and cleaned datasets to make the exploration and modeling an easier task in the upcoming sections."
   ]
  },
  {
   "cell_type": "markdown",
   "id": "45ff7adf",
   "metadata": {
    "papermill": {
     "duration": 0.033262,
     "end_time": "2022-03-28T00:49:08.261583",
     "exception": false,
     "start_time": "2022-03-28T00:49:08.228321",
     "status": "completed"
    },
    "tags": []
   },
   "source": [
    "## Data Description:\n",
    "* hr_temp_20170201-20200131_subset.csv – This is a dataset containing hourly (variable DATE) temperature data (variable HourlyDryBulbTemperature) at a weather station near the area you are forecasting energy for.\n",
    "\n",
    "* hrl_load_metered - 20170201-20200131.csv – This is a dataset containing hourly (variable datetime_beginning_ept) megawatt usage data (variable mw) for the area in Pennsylvania centered around Duquesne. We are using only three years of data because we want to make sure that we look at recent energy patterns that are still applicable to our current customers."
   ]
  },
  {
   "cell_type": "code",
   "execution_count": 1,
   "id": "4e37f973",
   "metadata": {
    "_cell_guid": "b1076dfc-b9ad-4769-8c92-a6c4dae69d19",
    "_uuid": "8f2839f25d086af736a60e9eeb907d3b93b6e0e5",
    "execution": {
     "iopub.execute_input": "2022-03-28T00:49:08.329699Z",
     "iopub.status.busy": "2022-03-28T00:49:08.328311Z",
     "iopub.status.idle": "2022-03-28T00:49:08.337082Z",
     "shell.execute_reply": "2022-03-28T00:49:08.337715Z",
     "shell.execute_reply.started": "2022-03-28T00:48:13.188523Z"
    },
    "papermill": {
     "duration": 0.044677,
     "end_time": "2022-03-28T00:49:08.338058",
     "exception": false,
     "start_time": "2022-03-28T00:49:08.293381",
     "status": "completed"
    },
    "tags": []
   },
   "outputs": [],
   "source": [
    "import numpy as np # linear algebra\n",
    "import pandas as pd # data processing, CSV file I/O (e.g. pd.read_csv)\n",
    "import datetime as dt"
   ]
  },
  {
   "cell_type": "code",
   "execution_count": 2,
   "id": "c6e75317",
   "metadata": {
    "execution": {
     "iopub.execute_input": "2022-03-28T00:49:08.403849Z",
     "iopub.status.busy": "2022-03-28T00:49:08.403192Z",
     "iopub.status.idle": "2022-03-28T00:49:08.414300Z",
     "shell.execute_reply": "2022-03-28T00:49:08.414937Z",
     "shell.execute_reply.started": "2022-03-28T00:48:13.715746Z"
    },
    "papermill": {
     "duration": 0.045113,
     "end_time": "2022-03-28T00:49:08.415115",
     "exception": false,
     "start_time": "2022-03-28T00:49:08.370002",
     "status": "completed"
    },
    "tags": []
   },
   "outputs": [
    {
     "name": "stdout",
     "output_type": "stream",
     "text": [
      "/kaggle/input/milestone1/hrl_load_metered - 20170201-20200131.csv\n",
      "/kaggle/input/milestone1/hr_temp_20170201-20200131_subset.csv\n",
      "/kaggle/input/milestone1/hr_temp_20200201-20200229_subset.csv\n"
     ]
    }
   ],
   "source": [
    "import os\n",
    "for dirname, _, filenames in os.walk('/kaggle/input/milestone1'):\n",
    "    for filename in filenames:\n",
    "        print(os.path.join(dirname, filename))"
   ]
  },
  {
   "cell_type": "markdown",
   "id": "0f14fd50",
   "metadata": {
    "papermill": {
     "duration": 0.031249,
     "end_time": "2022-03-28T00:49:08.478104",
     "exception": false,
     "start_time": "2022-03-28T00:49:08.446855",
     "status": "completed"
    },
    "tags": []
   },
   "source": []
  },
  {
   "cell_type": "markdown",
   "id": "469d1719",
   "metadata": {
    "papermill": {
     "duration": 0.03042,
     "end_time": "2022-03-28T00:49:08.539738",
     "exception": false,
     "start_time": "2022-03-28T00:49:08.509318",
     "status": "completed"
    },
    "tags": []
   },
   "source": [
    "## 1.0 Load Data:\n",
    "* First, let's make sure to import date related values with 'datetime64' data type for easy manipulation."
   ]
  },
  {
   "cell_type": "code",
   "execution_count": 3,
   "id": "bd4e438b",
   "metadata": {
    "execution": {
     "iopub.execute_input": "2022-03-28T00:49:08.606848Z",
     "iopub.status.busy": "2022-03-28T00:49:08.605816Z",
     "iopub.status.idle": "2022-03-28T00:49:08.750810Z",
     "shell.execute_reply": "2022-03-28T00:49:08.751340Z",
     "shell.execute_reply.started": "2022-03-28T00:48:14.249820Z"
    },
    "papermill": {
     "duration": 0.179507,
     "end_time": "2022-03-28T00:49:08.751546",
     "exception": false,
     "start_time": "2022-03-28T00:49:08.572039",
     "status": "completed"
    },
    "tags": []
   },
   "outputs": [],
   "source": [
    "meter = pd.read_csv('/kaggle/input/milestone1/hrl_load_metered - 20170201-20200131.csv')#, parse_dates=['datetime_beginning_utc', 'datetime_beginning_ept'])\n",
    "weather = pd.read_csv('/kaggle/input/milestone1/hr_temp_20170201-20200131_subset.csv', parse_dates=['DATE'])\n",
    "weather1 = pd.read_csv('/kaggle/input/milestone1/hr_temp_20200201-20200229_subset.csv', parse_dates=['DATE'])"
   ]
  },
  {
   "cell_type": "code",
   "execution_count": 4,
   "id": "5dd62870",
   "metadata": {
    "execution": {
     "iopub.execute_input": "2022-03-28T00:49:08.818504Z",
     "iopub.status.busy": "2022-03-28T00:49:08.817536Z",
     "iopub.status.idle": "2022-03-28T00:49:13.859939Z",
     "shell.execute_reply": "2022-03-28T00:49:13.860414Z",
     "shell.execute_reply.started": "2022-03-28T00:48:14.529360Z"
    },
    "papermill": {
     "duration": 5.076761,
     "end_time": "2022-03-28T00:49:13.860643",
     "exception": false,
     "start_time": "2022-03-28T00:49:08.783882",
     "status": "completed"
    },
    "tags": []
   },
   "outputs": [
    {
     "name": "stdout",
     "output_type": "stream",
     "text": [
      "weather: (26280, 5)\n",
      "meter: (26280, 8)\n"
     ]
    }
   ],
   "source": [
    "for column in ['datetime_beginning_utc', 'datetime_beginning_ept']:\n",
    "    meter[column] = pd.to_datetime(meter[column])\n",
    "\n",
    "weather = weather.sort_values('DATE')\n",
    "meter = meter.sort_values('datetime_beginning_ept')\n",
    "print(f'weather: {weather.shape}')\n",
    "print(f'meter: {meter.shape}')"
   ]
  },
  {
   "cell_type": "code",
   "execution_count": 5,
   "id": "b10793dd",
   "metadata": {
    "execution": {
     "iopub.execute_input": "2022-03-28T00:49:13.927007Z",
     "iopub.status.busy": "2022-03-28T00:49:13.926123Z",
     "iopub.status.idle": "2022-03-28T00:49:13.935776Z",
     "shell.execute_reply": "2022-03-28T00:49:13.935058Z",
     "shell.execute_reply.started": "2022-03-28T00:48:19.675151Z"
    },
    "papermill": {
     "duration": 0.043885,
     "end_time": "2022-03-28T00:49:13.935936",
     "exception": false,
     "start_time": "2022-03-28T00:49:13.892051",
     "status": "completed"
    },
    "tags": []
   },
   "outputs": [
    {
     "data": {
      "text/plain": [
       "STATION                              int64\n",
       "DATE                        datetime64[ns]\n",
       "REPORT_TYPE                         object\n",
       "SOURCE                               int64\n",
       "HourlyDryBulbTemperature           float64\n",
       "dtype: object"
      ]
     },
     "execution_count": 5,
     "metadata": {},
     "output_type": "execute_result"
    }
   ],
   "source": [
    "weather.dtypes"
   ]
  },
  {
   "cell_type": "code",
   "execution_count": 6,
   "id": "259cb7af",
   "metadata": {
    "execution": {
     "iopub.execute_input": "2022-03-28T00:49:14.006418Z",
     "iopub.status.busy": "2022-03-28T00:49:14.005571Z",
     "iopub.status.idle": "2022-03-28T00:49:14.008886Z",
     "shell.execute_reply": "2022-03-28T00:49:14.009364Z",
     "shell.execute_reply.started": "2022-03-28T00:48:19.686148Z"
    },
    "papermill": {
     "duration": 0.041717,
     "end_time": "2022-03-28T00:49:14.009550",
     "exception": false,
     "start_time": "2022-03-28T00:49:13.967833",
     "status": "completed"
    },
    "tags": []
   },
   "outputs": [
    {
     "data": {
      "text/plain": [
       "datetime_beginning_utc    datetime64[ns]\n",
       "datetime_beginning_ept    datetime64[ns]\n",
       "nerc_region                       object\n",
       "mkt_region                        object\n",
       "zone                              object\n",
       "load_area                         object\n",
       "mw                               float64\n",
       "is_verified                         bool\n",
       "dtype: object"
      ]
     },
     "execution_count": 6,
     "metadata": {},
     "output_type": "execute_result"
    }
   ],
   "source": [
    "meter.dtypes"
   ]
  },
  {
   "cell_type": "markdown",
   "id": "b2fb5510",
   "metadata": {
    "papermill": {
     "duration": 0.031748,
     "end_time": "2022-03-28T00:49:14.074041",
     "exception": false,
     "start_time": "2022-03-28T00:49:14.042293",
     "status": "completed"
    },
    "tags": []
   },
   "source": [
    "## 2.0 Preprocessing:"
   ]
  },
  {
   "cell_type": "markdown",
   "id": "30644387",
   "metadata": {
    "papermill": {
     "duration": 0.031793,
     "end_time": "2022-03-28T00:49:14.139683",
     "exception": false,
     "start_time": "2022-03-28T00:49:14.107890",
     "status": "completed"
    },
    "tags": []
   },
   "source": [
    "### 2.1 Drop/Rename columns:\n",
    "* Let's drop unnecessary columns and rename some columns for simplicity."
   ]
  },
  {
   "cell_type": "code",
   "execution_count": 7,
   "id": "e09bf736",
   "metadata": {
    "execution": {
     "iopub.execute_input": "2022-03-28T00:49:14.211422Z",
     "iopub.status.busy": "2022-03-28T00:49:14.210614Z",
     "iopub.status.idle": "2022-03-28T00:49:14.213033Z",
     "shell.execute_reply": "2022-03-28T00:49:14.213485Z",
     "shell.execute_reply.started": "2022-03-28T00:48:19.706328Z"
    },
    "papermill": {
     "duration": 0.041491,
     "end_time": "2022-03-28T00:49:14.213658",
     "exception": false,
     "start_time": "2022-03-28T00:49:14.172167",
     "status": "completed"
    },
    "tags": []
   },
   "outputs": [],
   "source": [
    "#weather\n",
    "weather = weather.drop(columns=['STATION','REPORT_TYPE','SOURCE'])"
   ]
  },
  {
   "cell_type": "code",
   "execution_count": 8,
   "id": "626aeea7",
   "metadata": {
    "execution": {
     "iopub.execute_input": "2022-03-28T00:49:14.282777Z",
     "iopub.status.busy": "2022-03-28T00:49:14.282144Z",
     "iopub.status.idle": "2022-03-28T00:49:14.301968Z",
     "shell.execute_reply": "2022-03-28T00:49:14.301421Z",
     "shell.execute_reply.started": "2022-03-28T00:48:19.718427Z"
    },
    "papermill": {
     "duration": 0.055285,
     "end_time": "2022-03-28T00:49:14.302108",
     "exception": false,
     "start_time": "2022-03-28T00:49:14.246823",
     "status": "completed"
    },
    "tags": []
   },
   "outputs": [
    {
     "data": {
      "text/html": [
       "<div>\n",
       "<style scoped>\n",
       "    .dataframe tbody tr th:only-of-type {\n",
       "        vertical-align: middle;\n",
       "    }\n",
       "\n",
       "    .dataframe tbody tr th {\n",
       "        vertical-align: top;\n",
       "    }\n",
       "\n",
       "    .dataframe thead th {\n",
       "        text-align: right;\n",
       "    }\n",
       "</style>\n",
       "<table border=\"1\" class=\"dataframe\">\n",
       "  <thead>\n",
       "    <tr style=\"text-align: right;\">\n",
       "      <th></th>\n",
       "      <th>DATE</th>\n",
       "      <th>mw</th>\n",
       "    </tr>\n",
       "  </thead>\n",
       "  <tbody>\n",
       "    <tr>\n",
       "      <th>0</th>\n",
       "      <td>2017-02-01 00:00:00</td>\n",
       "      <td>1419.881</td>\n",
       "    </tr>\n",
       "    <tr>\n",
       "      <th>1</th>\n",
       "      <td>2017-02-01 01:00:00</td>\n",
       "      <td>1379.505</td>\n",
       "    </tr>\n",
       "    <tr>\n",
       "      <th>2</th>\n",
       "      <td>2017-02-01 02:00:00</td>\n",
       "      <td>1366.106</td>\n",
       "    </tr>\n",
       "    <tr>\n",
       "      <th>3</th>\n",
       "      <td>2017-02-01 03:00:00</td>\n",
       "      <td>1364.453</td>\n",
       "    </tr>\n",
       "    <tr>\n",
       "      <th>4</th>\n",
       "      <td>2017-02-01 04:00:00</td>\n",
       "      <td>1391.265</td>\n",
       "    </tr>\n",
       "  </tbody>\n",
       "</table>\n",
       "</div>"
      ],
      "text/plain": [
       "                 DATE        mw\n",
       "0 2017-02-01 00:00:00  1419.881\n",
       "1 2017-02-01 01:00:00  1379.505\n",
       "2 2017-02-01 02:00:00  1366.106\n",
       "3 2017-02-01 03:00:00  1364.453\n",
       "4 2017-02-01 04:00:00  1391.265"
      ]
     },
     "execution_count": 8,
     "metadata": {},
     "output_type": "execute_result"
    }
   ],
   "source": [
    "#meter\n",
    "meter = meter.rename(columns={'datetime_beginning_ept':'DATE'})\n",
    "meter = meter.drop(columns=['datetime_beginning_utc','nerc_region','mkt_region','zone','load_area','is_verified'])\n",
    "meter.head()"
   ]
  },
  {
   "cell_type": "markdown",
   "id": "a1b58c8a",
   "metadata": {
    "papermill": {
     "duration": 0.032439,
     "end_time": "2022-03-28T00:49:14.367512",
     "exception": false,
     "start_time": "2022-03-28T00:49:14.335073",
     "status": "completed"
    },
    "tags": []
   },
   "source": [
    "### 2.2 Index DateTime / Merge DataFrames:\n",
    "* Let's create extract information (year, month, hour, day, day_of_week) from 'DATE'column.\n",
    "* Then, we will create new columns for it.\n",
    "* Fianlly, we will make these columns as index for each dataframe.\n",
    "* This makes combining our two dataframes (energy & weather) easier using common index."
   ]
  },
  {
   "cell_type": "code",
   "execution_count": 9,
   "id": "35064278",
   "metadata": {
    "execution": {
     "iopub.execute_input": "2022-03-28T00:49:14.436909Z",
     "iopub.status.busy": "2022-03-28T00:49:14.436218Z",
     "iopub.status.idle": "2022-03-28T00:49:14.466190Z",
     "shell.execute_reply": "2022-03-28T00:49:14.465675Z",
     "shell.execute_reply.started": "2022-03-28T00:48:19.744847Z"
    },
    "papermill": {
     "duration": 0.066441,
     "end_time": "2022-03-28T00:49:14.466326",
     "exception": false,
     "start_time": "2022-03-28T00:49:14.399885",
     "status": "completed"
    },
    "tags": []
   },
   "outputs": [
    {
     "data": {
      "text/html": [
       "<div>\n",
       "<style scoped>\n",
       "    .dataframe tbody tr th:only-of-type {\n",
       "        vertical-align: middle;\n",
       "    }\n",
       "\n",
       "    .dataframe tbody tr th {\n",
       "        vertical-align: top;\n",
       "    }\n",
       "\n",
       "    .dataframe thead th {\n",
       "        text-align: right;\n",
       "    }\n",
       "</style>\n",
       "<table border=\"1\" class=\"dataframe\">\n",
       "  <thead>\n",
       "    <tr style=\"text-align: right;\">\n",
       "      <th></th>\n",
       "      <th>DATE</th>\n",
       "      <th>mw</th>\n",
       "      <th>day_of_week</th>\n",
       "      <th>hour</th>\n",
       "      <th>day</th>\n",
       "      <th>month</th>\n",
       "      <th>year</th>\n",
       "    </tr>\n",
       "  </thead>\n",
       "  <tbody>\n",
       "    <tr>\n",
       "      <th>0</th>\n",
       "      <td>2017-02-01 00:00:00</td>\n",
       "      <td>1419.881</td>\n",
       "      <td>2</td>\n",
       "      <td>0</td>\n",
       "      <td>1</td>\n",
       "      <td>2</td>\n",
       "      <td>2017</td>\n",
       "    </tr>\n",
       "    <tr>\n",
       "      <th>1</th>\n",
       "      <td>2017-02-01 01:00:00</td>\n",
       "      <td>1379.505</td>\n",
       "      <td>2</td>\n",
       "      <td>1</td>\n",
       "      <td>1</td>\n",
       "      <td>2</td>\n",
       "      <td>2017</td>\n",
       "    </tr>\n",
       "    <tr>\n",
       "      <th>2</th>\n",
       "      <td>2017-02-01 02:00:00</td>\n",
       "      <td>1366.106</td>\n",
       "      <td>2</td>\n",
       "      <td>2</td>\n",
       "      <td>1</td>\n",
       "      <td>2</td>\n",
       "      <td>2017</td>\n",
       "    </tr>\n",
       "  </tbody>\n",
       "</table>\n",
       "</div>"
      ],
      "text/plain": [
       "                 DATE        mw  day_of_week  hour  day  month  year\n",
       "0 2017-02-01 00:00:00  1419.881            2     0    1      2  2017\n",
       "1 2017-02-01 01:00:00  1379.505            2     1    1      2  2017\n",
       "2 2017-02-01 02:00:00  1366.106            2     2    1      2  2017"
      ]
     },
     "execution_count": 9,
     "metadata": {},
     "output_type": "execute_result"
    }
   ],
   "source": [
    "meter['day_of_week'] = meter.DATE.dt.dayofweek\n",
    "meter['hour'] = meter.DATE.dt.hour\n",
    "meter['day'] = meter.DATE.dt.day\n",
    "meter['month'] = meter.DATE.dt.month\n",
    "meter['year'] = meter.DATE.dt.year\n",
    "meter.head(3)"
   ]
  },
  {
   "cell_type": "code",
   "execution_count": 10,
   "id": "3114ef8f",
   "metadata": {
    "execution": {
     "iopub.execute_input": "2022-03-28T00:49:14.539701Z",
     "iopub.status.busy": "2022-03-28T00:49:14.538774Z",
     "iopub.status.idle": "2022-03-28T00:49:14.565697Z",
     "shell.execute_reply": "2022-03-28T00:49:14.566186Z",
     "shell.execute_reply.started": "2022-03-28T00:48:19.777519Z"
    },
    "papermill": {
     "duration": 0.067051,
     "end_time": "2022-03-28T00:49:14.566354",
     "exception": false,
     "start_time": "2022-03-28T00:49:14.499303",
     "status": "completed"
    },
    "tags": []
   },
   "outputs": [
    {
     "data": {
      "text/html": [
       "<div>\n",
       "<style scoped>\n",
       "    .dataframe tbody tr th:only-of-type {\n",
       "        vertical-align: middle;\n",
       "    }\n",
       "\n",
       "    .dataframe tbody tr th {\n",
       "        vertical-align: top;\n",
       "    }\n",
       "\n",
       "    .dataframe thead th {\n",
       "        text-align: right;\n",
       "    }\n",
       "</style>\n",
       "<table border=\"1\" class=\"dataframe\">\n",
       "  <thead>\n",
       "    <tr style=\"text-align: right;\">\n",
       "      <th></th>\n",
       "      <th>DATE</th>\n",
       "      <th>HourlyDryBulbTemperature</th>\n",
       "      <th>day_of_week</th>\n",
       "      <th>hour</th>\n",
       "      <th>day</th>\n",
       "      <th>month</th>\n",
       "      <th>year</th>\n",
       "    </tr>\n",
       "  </thead>\n",
       "  <tbody>\n",
       "    <tr>\n",
       "      <th>0</th>\n",
       "      <td>2017-02-01 00:53:00</td>\n",
       "      <td>37.0</td>\n",
       "      <td>2</td>\n",
       "      <td>0</td>\n",
       "      <td>1</td>\n",
       "      <td>2</td>\n",
       "      <td>2017</td>\n",
       "    </tr>\n",
       "    <tr>\n",
       "      <th>1</th>\n",
       "      <td>2017-02-01 01:53:00</td>\n",
       "      <td>37.0</td>\n",
       "      <td>2</td>\n",
       "      <td>1</td>\n",
       "      <td>1</td>\n",
       "      <td>2</td>\n",
       "      <td>2017</td>\n",
       "    </tr>\n",
       "    <tr>\n",
       "      <th>2</th>\n",
       "      <td>2017-02-01 02:53:00</td>\n",
       "      <td>36.0</td>\n",
       "      <td>2</td>\n",
       "      <td>2</td>\n",
       "      <td>1</td>\n",
       "      <td>2</td>\n",
       "      <td>2017</td>\n",
       "    </tr>\n",
       "  </tbody>\n",
       "</table>\n",
       "</div>"
      ],
      "text/plain": [
       "                 DATE  HourlyDryBulbTemperature  day_of_week  hour  day  \\\n",
       "0 2017-02-01 00:53:00                      37.0            2     0    1   \n",
       "1 2017-02-01 01:53:00                      37.0            2     1    1   \n",
       "2 2017-02-01 02:53:00                      36.0            2     2    1   \n",
       "\n",
       "   month  year  \n",
       "0      2  2017  \n",
       "1      2  2017  \n",
       "2      2  2017  "
      ]
     },
     "execution_count": 10,
     "metadata": {},
     "output_type": "execute_result"
    }
   ],
   "source": [
    "weather['day_of_week'] = weather.DATE.dt.dayofweek\n",
    "weather['hour'] = weather.DATE.dt.hour\n",
    "weather['day'] = weather.DATE.dt.day\n",
    "weather['month'] = weather.DATE.dt.month\n",
    "weather['year'] = weather.DATE.dt.year\n",
    "weather.head(3)"
   ]
  },
  {
   "cell_type": "code",
   "execution_count": 11,
   "id": "709113dd",
   "metadata": {
    "execution": {
     "iopub.execute_input": "2022-03-28T00:49:14.637016Z",
     "iopub.status.busy": "2022-03-28T00:49:14.636069Z",
     "iopub.status.idle": "2022-03-28T00:49:14.834000Z",
     "shell.execute_reply": "2022-03-28T00:49:14.834438Z",
     "shell.execute_reply.started": "2022-03-28T00:48:19.810440Z"
    },
    "papermill": {
     "duration": 0.234679,
     "end_time": "2022-03-28T00:49:14.834632",
     "exception": false,
     "start_time": "2022-03-28T00:49:14.599953",
     "status": "completed"
    },
    "tags": []
   },
   "outputs": [
    {
     "data": {
      "text/html": [
       "<div>\n",
       "<style scoped>\n",
       "    .dataframe tbody tr th:only-of-type {\n",
       "        vertical-align: middle;\n",
       "    }\n",
       "\n",
       "    .dataframe tbody tr th {\n",
       "        vertical-align: top;\n",
       "    }\n",
       "\n",
       "    .dataframe thead th {\n",
       "        text-align: right;\n",
       "    }\n",
       "</style>\n",
       "<table border=\"1\" class=\"dataframe\">\n",
       "  <thead>\n",
       "    <tr style=\"text-align: right;\">\n",
       "      <th></th>\n",
       "      <th></th>\n",
       "      <th></th>\n",
       "      <th></th>\n",
       "      <th></th>\n",
       "      <th>temp</th>\n",
       "      <th>mw</th>\n",
       "    </tr>\n",
       "    <tr>\n",
       "      <th>year</th>\n",
       "      <th>month</th>\n",
       "      <th>day</th>\n",
       "      <th>hour</th>\n",
       "      <th>day_of_week</th>\n",
       "      <th></th>\n",
       "      <th></th>\n",
       "    </tr>\n",
       "  </thead>\n",
       "  <tbody>\n",
       "    <tr>\n",
       "      <th rowspan=\"5\" valign=\"top\">2017</th>\n",
       "      <th rowspan=\"5\" valign=\"top\">2</th>\n",
       "      <th rowspan=\"5\" valign=\"top\">1</th>\n",
       "      <th>0</th>\n",
       "      <th>2</th>\n",
       "      <td>37.0</td>\n",
       "      <td>1419.881</td>\n",
       "    </tr>\n",
       "    <tr>\n",
       "      <th>1</th>\n",
       "      <th>2</th>\n",
       "      <td>37.0</td>\n",
       "      <td>1379.505</td>\n",
       "    </tr>\n",
       "    <tr>\n",
       "      <th>2</th>\n",
       "      <th>2</th>\n",
       "      <td>36.0</td>\n",
       "      <td>1366.106</td>\n",
       "    </tr>\n",
       "    <tr>\n",
       "      <th>3</th>\n",
       "      <th>2</th>\n",
       "      <td>36.0</td>\n",
       "      <td>1364.453</td>\n",
       "    </tr>\n",
       "    <tr>\n",
       "      <th>4</th>\n",
       "      <th>2</th>\n",
       "      <td>36.0</td>\n",
       "      <td>1391.265</td>\n",
       "    </tr>\n",
       "    <tr>\n",
       "      <th>...</th>\n",
       "      <th>...</th>\n",
       "      <th>...</th>\n",
       "      <th>...</th>\n",
       "      <th>...</th>\n",
       "      <td>...</td>\n",
       "      <td>...</td>\n",
       "    </tr>\n",
       "    <tr>\n",
       "      <th rowspan=\"5\" valign=\"top\">2020</th>\n",
       "      <th rowspan=\"5\" valign=\"top\">1</th>\n",
       "      <th rowspan=\"5\" valign=\"top\">31</th>\n",
       "      <th>19</th>\n",
       "      <th>4</th>\n",
       "      <td>34.0</td>\n",
       "      <td>1618.484</td>\n",
       "    </tr>\n",
       "    <tr>\n",
       "      <th>20</th>\n",
       "      <th>4</th>\n",
       "      <td>33.0</td>\n",
       "      <td>1580.925</td>\n",
       "    </tr>\n",
       "    <tr>\n",
       "      <th>21</th>\n",
       "      <th>4</th>\n",
       "      <td>33.0</td>\n",
       "      <td>1545.354</td>\n",
       "    </tr>\n",
       "    <tr>\n",
       "      <th>22</th>\n",
       "      <th>4</th>\n",
       "      <td>33.0</td>\n",
       "      <td>1478.832</td>\n",
       "    </tr>\n",
       "    <tr>\n",
       "      <th>23</th>\n",
       "      <th>4</th>\n",
       "      <td>34.0</td>\n",
       "      <td>1405.188</td>\n",
       "    </tr>\n",
       "  </tbody>\n",
       "</table>\n",
       "<p>26283 rows × 2 columns</p>\n",
       "</div>"
      ],
      "text/plain": [
       "                                 temp        mw\n",
       "year month day hour day_of_week                \n",
       "2017 2     1   0    2            37.0  1419.881\n",
       "               1    2            37.0  1379.505\n",
       "               2    2            36.0  1366.106\n",
       "               3    2            36.0  1364.453\n",
       "               4    2            36.0  1391.265\n",
       "...                               ...       ...\n",
       "2020 1     31  19   4            34.0  1618.484\n",
       "               20   4            33.0  1580.925\n",
       "               21   4            33.0  1545.354\n",
       "               22   4            33.0  1478.832\n",
       "               23   4            34.0  1405.188\n",
       "\n",
       "[26283 rows x 2 columns]"
      ]
     },
     "execution_count": 11,
     "metadata": {},
     "output_type": "execute_result"
    }
   ],
   "source": [
    "weather0 = weather.set_index(['year','month','day','hour','day_of_week'])\n",
    "meter0 = meter.set_index(['year','month','day','hour','day_of_week'])\n",
    "\n",
    "weather0 = weather0.drop(columns=['DATE'])\n",
    "meter0 = meter0.drop(columns=['DATE'])\n",
    "df = weather0.join(meter0, how='outer')\n",
    "df = df.rename(columns={'HourlyDryBulbTemperature':'temp'})\n",
    "df"
   ]
  },
  {
   "cell_type": "markdown",
   "id": "2f950f46",
   "metadata": {
    "papermill": {
     "duration": 0.033977,
     "end_time": "2022-03-28T00:49:14.903397",
     "exception": false,
     "start_time": "2022-03-28T00:49:14.869420",
     "status": "completed"
    },
    "tags": []
   },
   "source": [
    "### 2.3 Identify Missing Data:\n",
    "* Not all of the temperature data is recorded, as the stations would occasionally not report.\n",
    "* So, we will fill in these missing values using linear interpolation.\n",
    "* Let's look at what data we are mssing."
   ]
  },
  {
   "cell_type": "code",
   "execution_count": 12,
   "id": "8dfff01b",
   "metadata": {
    "execution": {
     "iopub.execute_input": "2022-03-28T00:49:14.976458Z",
     "iopub.status.busy": "2022-03-28T00:49:14.975865Z",
     "iopub.status.idle": "2022-03-28T00:49:14.981013Z",
     "shell.execute_reply": "2022-03-28T00:49:14.981610Z",
     "shell.execute_reply.started": "2022-03-28T00:48:20.045069Z"
    },
    "papermill": {
     "duration": 0.044124,
     "end_time": "2022-03-28T00:49:14.981780",
     "exception": false,
     "start_time": "2022-03-28T00:49:14.937656",
     "status": "completed"
    },
    "tags": []
   },
   "outputs": [
    {
     "data": {
      "text/plain": [
       "temp    37\n",
       "mw       3\n",
       "dtype: int64"
      ]
     },
     "execution_count": 12,
     "metadata": {},
     "output_type": "execute_result"
    }
   ],
   "source": [
    "df.isna().sum()"
   ]
  },
  {
   "cell_type": "code",
   "execution_count": 13,
   "id": "29f796d6",
   "metadata": {
    "execution": {
     "iopub.execute_input": "2022-03-28T00:49:15.058413Z",
     "iopub.status.busy": "2022-03-28T00:49:15.055988Z",
     "iopub.status.idle": "2022-03-28T00:49:15.069614Z",
     "shell.execute_reply": "2022-03-28T00:49:15.068956Z",
     "shell.execute_reply.started": "2022-03-28T00:48:20.055923Z"
    },
    "papermill": {
     "duration": 0.053324,
     "end_time": "2022-03-28T00:49:15.069756",
     "exception": false,
     "start_time": "2022-03-28T00:49:15.016432",
     "status": "completed"
    },
    "tags": []
   },
   "outputs": [
    {
     "data": {
      "text/html": [
       "<div>\n",
       "<style scoped>\n",
       "    .dataframe tbody tr th:only-of-type {\n",
       "        vertical-align: middle;\n",
       "    }\n",
       "\n",
       "    .dataframe tbody tr th {\n",
       "        vertical-align: top;\n",
       "    }\n",
       "\n",
       "    .dataframe thead th {\n",
       "        text-align: right;\n",
       "    }\n",
       "</style>\n",
       "<table border=\"1\" class=\"dataframe\">\n",
       "  <thead>\n",
       "    <tr style=\"text-align: right;\">\n",
       "      <th></th>\n",
       "      <th></th>\n",
       "      <th></th>\n",
       "      <th></th>\n",
       "      <th></th>\n",
       "      <th>temp</th>\n",
       "      <th>mw</th>\n",
       "    </tr>\n",
       "    <tr>\n",
       "      <th>year</th>\n",
       "      <th>month</th>\n",
       "      <th>day</th>\n",
       "      <th>hour</th>\n",
       "      <th>day_of_week</th>\n",
       "      <th></th>\n",
       "      <th></th>\n",
       "    </tr>\n",
       "  </thead>\n",
       "  <tbody>\n",
       "    <tr>\n",
       "      <th>2017</th>\n",
       "      <th>3</th>\n",
       "      <th>12</th>\n",
       "      <th>2</th>\n",
       "      <th>6</th>\n",
       "      <td>17.0</td>\n",
       "      <td>NaN</td>\n",
       "    </tr>\n",
       "    <tr>\n",
       "      <th>2018</th>\n",
       "      <th>3</th>\n",
       "      <th>11</th>\n",
       "      <th>2</th>\n",
       "      <th>6</th>\n",
       "      <td>23.0</td>\n",
       "      <td>NaN</td>\n",
       "    </tr>\n",
       "    <tr>\n",
       "      <th>2019</th>\n",
       "      <th>3</th>\n",
       "      <th>10</th>\n",
       "      <th>2</th>\n",
       "      <th>6</th>\n",
       "      <td>46.0</td>\n",
       "      <td>NaN</td>\n",
       "    </tr>\n",
       "  </tbody>\n",
       "</table>\n",
       "</div>"
      ],
      "text/plain": [
       "                                 temp  mw\n",
       "year month day hour day_of_week          \n",
       "2017 3     12  2    6            17.0 NaN\n",
       "2018 3     11  2    6            23.0 NaN\n",
       "2019 3     10  2    6            46.0 NaN"
      ]
     },
     "execution_count": 13,
     "metadata": {},
     "output_type": "execute_result"
    }
   ],
   "source": [
    "#missing mw values (Mar 12 2017, Mar 11 2018, Mar 10 2019)\n",
    "# Sunday of 3rd week of March may be the yearly maintenance downtime for energy meter\n",
    "missing_mw = df[df['mw'].isna()==True]\n",
    "missing_mw"
   ]
  },
  {
   "cell_type": "code",
   "execution_count": 14,
   "id": "0a632d5c",
   "metadata": {
    "execution": {
     "iopub.execute_input": "2022-03-28T00:49:15.162797Z",
     "iopub.status.busy": "2022-03-28T00:49:15.148125Z",
     "iopub.status.idle": "2022-03-28T00:49:15.167256Z",
     "shell.execute_reply": "2022-03-28T00:49:15.166731Z",
     "shell.execute_reply.started": "2022-03-28T00:48:20.073982Z"
    },
    "papermill": {
     "duration": 0.060969,
     "end_time": "2022-03-28T00:49:15.167392",
     "exception": false,
     "start_time": "2022-03-28T00:49:15.106423",
     "status": "completed"
    },
    "tags": []
   },
   "outputs": [
    {
     "data": {
      "text/html": [
       "<div>\n",
       "<style scoped>\n",
       "    .dataframe tbody tr th:only-of-type {\n",
       "        vertical-align: middle;\n",
       "    }\n",
       "\n",
       "    .dataframe tbody tr th {\n",
       "        vertical-align: top;\n",
       "    }\n",
       "\n",
       "    .dataframe thead th {\n",
       "        text-align: right;\n",
       "    }\n",
       "</style>\n",
       "<table border=\"1\" class=\"dataframe\">\n",
       "  <thead>\n",
       "    <tr style=\"text-align: right;\">\n",
       "      <th></th>\n",
       "      <th></th>\n",
       "      <th></th>\n",
       "      <th></th>\n",
       "      <th></th>\n",
       "      <th>temp</th>\n",
       "      <th>mw</th>\n",
       "    </tr>\n",
       "    <tr>\n",
       "      <th>year</th>\n",
       "      <th>month</th>\n",
       "      <th>day</th>\n",
       "      <th>hour</th>\n",
       "      <th>day_of_week</th>\n",
       "      <th></th>\n",
       "      <th></th>\n",
       "    </tr>\n",
       "  </thead>\n",
       "  <tbody>\n",
       "    <tr>\n",
       "      <th rowspan=\"33\" valign=\"top\">2018</th>\n",
       "      <th>10</th>\n",
       "      <th>25</th>\n",
       "      <th>12</th>\n",
       "      <th>3</th>\n",
       "      <td>NaN</td>\n",
       "      <td>1581.431</td>\n",
       "    </tr>\n",
       "    <tr>\n",
       "      <th rowspan=\"32\" valign=\"top\">12</th>\n",
       "      <th rowspan=\"22\" valign=\"top\">25</th>\n",
       "      <th>2</th>\n",
       "      <th>1</th>\n",
       "      <td>NaN</td>\n",
       "      <td>1269.577</td>\n",
       "    </tr>\n",
       "    <tr>\n",
       "      <th>3</th>\n",
       "      <th>1</th>\n",
       "      <td>NaN</td>\n",
       "      <td>1263.540</td>\n",
       "    </tr>\n",
       "    <tr>\n",
       "      <th>4</th>\n",
       "      <th>1</th>\n",
       "      <td>NaN</td>\n",
       "      <td>1271.892</td>\n",
       "    </tr>\n",
       "    <tr>\n",
       "      <th>5</th>\n",
       "      <th>1</th>\n",
       "      <td>NaN</td>\n",
       "      <td>1304.021</td>\n",
       "    </tr>\n",
       "    <tr>\n",
       "      <th>6</th>\n",
       "      <th>1</th>\n",
       "      <td>NaN</td>\n",
       "      <td>1340.344</td>\n",
       "    </tr>\n",
       "    <tr>\n",
       "      <th>7</th>\n",
       "      <th>1</th>\n",
       "      <td>NaN</td>\n",
       "      <td>1380.992</td>\n",
       "    </tr>\n",
       "    <tr>\n",
       "      <th>8</th>\n",
       "      <th>1</th>\n",
       "      <td>NaN</td>\n",
       "      <td>1395.445</td>\n",
       "    </tr>\n",
       "    <tr>\n",
       "      <th>9</th>\n",
       "      <th>1</th>\n",
       "      <td>NaN</td>\n",
       "      <td>1422.708</td>\n",
       "    </tr>\n",
       "    <tr>\n",
       "      <th>10</th>\n",
       "      <th>1</th>\n",
       "      <td>NaN</td>\n",
       "      <td>1438.822</td>\n",
       "    </tr>\n",
       "    <tr>\n",
       "      <th>11</th>\n",
       "      <th>1</th>\n",
       "      <td>NaN</td>\n",
       "      <td>1413.274</td>\n",
       "    </tr>\n",
       "    <tr>\n",
       "      <th>12</th>\n",
       "      <th>1</th>\n",
       "      <td>NaN</td>\n",
       "      <td>1394.176</td>\n",
       "    </tr>\n",
       "    <tr>\n",
       "      <th>13</th>\n",
       "      <th>1</th>\n",
       "      <td>NaN</td>\n",
       "      <td>1375.023</td>\n",
       "    </tr>\n",
       "    <tr>\n",
       "      <th>14</th>\n",
       "      <th>1</th>\n",
       "      <td>NaN</td>\n",
       "      <td>1354.344</td>\n",
       "    </tr>\n",
       "    <tr>\n",
       "      <th>15</th>\n",
       "      <th>1</th>\n",
       "      <td>NaN</td>\n",
       "      <td>1348.573</td>\n",
       "    </tr>\n",
       "    <tr>\n",
       "      <th>16</th>\n",
       "      <th>1</th>\n",
       "      <td>NaN</td>\n",
       "      <td>1379.544</td>\n",
       "    </tr>\n",
       "    <tr>\n",
       "      <th>17</th>\n",
       "      <th>1</th>\n",
       "      <td>NaN</td>\n",
       "      <td>1455.665</td>\n",
       "    </tr>\n",
       "    <tr>\n",
       "      <th>18</th>\n",
       "      <th>1</th>\n",
       "      <td>NaN</td>\n",
       "      <td>1462.390</td>\n",
       "    </tr>\n",
       "    <tr>\n",
       "      <th>19</th>\n",
       "      <th>1</th>\n",
       "      <td>NaN</td>\n",
       "      <td>1462.030</td>\n",
       "    </tr>\n",
       "    <tr>\n",
       "      <th>20</th>\n",
       "      <th>1</th>\n",
       "      <td>NaN</td>\n",
       "      <td>1461.466</td>\n",
       "    </tr>\n",
       "    <tr>\n",
       "      <th>21</th>\n",
       "      <th>1</th>\n",
       "      <td>NaN</td>\n",
       "      <td>1448.051</td>\n",
       "    </tr>\n",
       "    <tr>\n",
       "      <th>22</th>\n",
       "      <th>1</th>\n",
       "      <td>NaN</td>\n",
       "      <td>1406.473</td>\n",
       "    </tr>\n",
       "    <tr>\n",
       "      <th>23</th>\n",
       "      <th>1</th>\n",
       "      <td>NaN</td>\n",
       "      <td>1345.258</td>\n",
       "    </tr>\n",
       "    <tr>\n",
       "      <th rowspan=\"10\" valign=\"top\">26</th>\n",
       "      <th>0</th>\n",
       "      <th>2</th>\n",
       "      <td>NaN</td>\n",
       "      <td>1301.272</td>\n",
       "    </tr>\n",
       "    <tr>\n",
       "      <th>1</th>\n",
       "      <th>2</th>\n",
       "      <td>NaN</td>\n",
       "      <td>1267.715</td>\n",
       "    </tr>\n",
       "    <tr>\n",
       "      <th>2</th>\n",
       "      <th>2</th>\n",
       "      <td>NaN</td>\n",
       "      <td>1264.119</td>\n",
       "    </tr>\n",
       "    <tr>\n",
       "      <th>3</th>\n",
       "      <th>2</th>\n",
       "      <td>NaN</td>\n",
       "      <td>1259.701</td>\n",
       "    </tr>\n",
       "    <tr>\n",
       "      <th>4</th>\n",
       "      <th>2</th>\n",
       "      <td>NaN</td>\n",
       "      <td>1279.052</td>\n",
       "    </tr>\n",
       "    <tr>\n",
       "      <th>5</th>\n",
       "      <th>2</th>\n",
       "      <td>NaN</td>\n",
       "      <td>1332.444</td>\n",
       "    </tr>\n",
       "    <tr>\n",
       "      <th>8</th>\n",
       "      <th>2</th>\n",
       "      <td>NaN</td>\n",
       "      <td>1526.808</td>\n",
       "    </tr>\n",
       "    <tr>\n",
       "      <th>9</th>\n",
       "      <th>2</th>\n",
       "      <td>NaN</td>\n",
       "      <td>1558.543</td>\n",
       "    </tr>\n",
       "    <tr>\n",
       "      <th>10</th>\n",
       "      <th>2</th>\n",
       "      <td>NaN</td>\n",
       "      <td>1564.532</td>\n",
       "    </tr>\n",
       "    <tr>\n",
       "      <th>11</th>\n",
       "      <th>2</th>\n",
       "      <td>NaN</td>\n",
       "      <td>1543.588</td>\n",
       "    </tr>\n",
       "    <tr>\n",
       "      <th rowspan=\"4\" valign=\"top\">2019</th>\n",
       "      <th rowspan=\"4\" valign=\"top\">5</th>\n",
       "      <th rowspan=\"4\" valign=\"top\">26</th>\n",
       "      <th>1</th>\n",
       "      <th>6</th>\n",
       "      <td>NaN</td>\n",
       "      <td>1250.662</td>\n",
       "    </tr>\n",
       "    <tr>\n",
       "      <th>2</th>\n",
       "      <th>6</th>\n",
       "      <td>NaN</td>\n",
       "      <td>1216.115</td>\n",
       "    </tr>\n",
       "    <tr>\n",
       "      <th>3</th>\n",
       "      <th>6</th>\n",
       "      <td>NaN</td>\n",
       "      <td>1174.187</td>\n",
       "    </tr>\n",
       "    <tr>\n",
       "      <th>7</th>\n",
       "      <th>6</th>\n",
       "      <td>NaN</td>\n",
       "      <td>1223.292</td>\n",
       "    </tr>\n",
       "  </tbody>\n",
       "</table>\n",
       "</div>"
      ],
      "text/plain": [
       "                                 temp        mw\n",
       "year month day hour day_of_week                \n",
       "2018 10    25  12   3             NaN  1581.431\n",
       "     12    25  2    1             NaN  1269.577\n",
       "               3    1             NaN  1263.540\n",
       "               4    1             NaN  1271.892\n",
       "               5    1             NaN  1304.021\n",
       "               6    1             NaN  1340.344\n",
       "               7    1             NaN  1380.992\n",
       "               8    1             NaN  1395.445\n",
       "               9    1             NaN  1422.708\n",
       "               10   1             NaN  1438.822\n",
       "               11   1             NaN  1413.274\n",
       "               12   1             NaN  1394.176\n",
       "               13   1             NaN  1375.023\n",
       "               14   1             NaN  1354.344\n",
       "               15   1             NaN  1348.573\n",
       "               16   1             NaN  1379.544\n",
       "               17   1             NaN  1455.665\n",
       "               18   1             NaN  1462.390\n",
       "               19   1             NaN  1462.030\n",
       "               20   1             NaN  1461.466\n",
       "               21   1             NaN  1448.051\n",
       "               22   1             NaN  1406.473\n",
       "               23   1             NaN  1345.258\n",
       "           26  0    2             NaN  1301.272\n",
       "               1    2             NaN  1267.715\n",
       "               2    2             NaN  1264.119\n",
       "               3    2             NaN  1259.701\n",
       "               4    2             NaN  1279.052\n",
       "               5    2             NaN  1332.444\n",
       "               8    2             NaN  1526.808\n",
       "               9    2             NaN  1558.543\n",
       "               10   2             NaN  1564.532\n",
       "               11   2             NaN  1543.588\n",
       "2019 5     26  1    6             NaN  1250.662\n",
       "               2    6             NaN  1216.115\n",
       "               3    6             NaN  1174.187\n",
       "               7    6             NaN  1223.292"
      ]
     },
     "execution_count": 14,
     "metadata": {},
     "output_type": "execute_result"
    }
   ],
   "source": [
    "# missing temp values (Oct 25 2018, Dec 25 2018, May 26 2019)\n",
    "# weather temp sensor doesn't exibit any particular yearly maintenance downtime.\n",
    "# we will fill this temp values with interpolation\n",
    "missing_temp = df[df['temp'].isna()==True]\n",
    "missing_temp"
   ]
  },
  {
   "cell_type": "markdown",
   "id": "42300f22",
   "metadata": {
    "papermill": {
     "duration": 0.036187,
     "end_time": "2022-03-28T00:49:15.239945",
     "exception": false,
     "start_time": "2022-03-28T00:49:15.203758",
     "status": "completed"
    },
    "tags": []
   },
   "source": [
    "### 2.4 Treat Missing Data:\n",
    "* we are missing:\n",
    "    * 37 temperature data [temp (unit: degree F)]\n",
    "    * 3 energy consumption data [mw (unit: MWh)]\n",
    "* Let's use linear interpolation to fill in the gaps with forward direction."
   ]
  },
  {
   "cell_type": "code",
   "execution_count": 15,
   "id": "17c7a022",
   "metadata": {
    "execution": {
     "iopub.execute_input": "2022-03-28T00:49:15.315444Z",
     "iopub.status.busy": "2022-03-28T00:49:15.314762Z",
     "iopub.status.idle": "2022-03-28T00:49:15.329107Z",
     "shell.execute_reply": "2022-03-28T00:49:15.328567Z",
     "shell.execute_reply.started": "2022-03-28T00:48:20.095193Z"
    },
    "papermill": {
     "duration": 0.053257,
     "end_time": "2022-03-28T00:49:15.329252",
     "exception": false,
     "start_time": "2022-03-28T00:49:15.275995",
     "status": "completed"
    },
    "tags": []
   },
   "outputs": [
    {
     "data": {
      "text/plain": [
       "temp    0\n",
       "mw      0\n",
       "dtype: int64"
      ]
     },
     "execution_count": 15,
     "metadata": {},
     "output_type": "execute_result"
    }
   ],
   "source": [
    "df['temp'] = df['temp'].interpolate(method='linear', limit_direction = 'forward')\n",
    "df['mw'] = df['mw'].interpolate(method='linear', limit_direction = 'forward')\n",
    "df.isnull().sum()"
   ]
  },
  {
   "cell_type": "markdown",
   "id": "ceb0ea76",
   "metadata": {
    "papermill": {
     "duration": 0.037576,
     "end_time": "2022-03-28T00:49:15.403425",
     "exception": false,
     "start_time": "2022-03-28T00:49:15.365849",
     "status": "completed"
    },
    "tags": []
   },
   "source": [
    "### 2.5 Re-index with Date:\n",
    "* we will desolve multi-index (year, month, day, hour)\n",
    "* Then, we will create a new index, 'date', which will combine all these values."
   ]
  },
  {
   "cell_type": "code",
   "execution_count": 16,
   "id": "fb0c3627",
   "metadata": {
    "execution": {
     "iopub.execute_input": "2022-03-28T00:49:15.479617Z",
     "iopub.status.busy": "2022-03-28T00:49:15.478945Z",
     "iopub.status.idle": "2022-03-28T00:49:15.492573Z",
     "shell.execute_reply": "2022-03-28T00:49:15.493155Z",
     "shell.execute_reply.started": "2022-03-28T00:48:20.116166Z"
    },
    "papermill": {
     "duration": 0.053185,
     "end_time": "2022-03-28T00:49:15.493322",
     "exception": false,
     "start_time": "2022-03-28T00:49:15.440137",
     "status": "completed"
    },
    "tags": []
   },
   "outputs": [
    {
     "data": {
      "text/html": [
       "<div>\n",
       "<style scoped>\n",
       "    .dataframe tbody tr th:only-of-type {\n",
       "        vertical-align: middle;\n",
       "    }\n",
       "\n",
       "    .dataframe tbody tr th {\n",
       "        vertical-align: top;\n",
       "    }\n",
       "\n",
       "    .dataframe thead th {\n",
       "        text-align: right;\n",
       "    }\n",
       "</style>\n",
       "<table border=\"1\" class=\"dataframe\">\n",
       "  <thead>\n",
       "    <tr style=\"text-align: right;\">\n",
       "      <th></th>\n",
       "      <th>year</th>\n",
       "      <th>month</th>\n",
       "      <th>day</th>\n",
       "      <th>hour</th>\n",
       "      <th>day_of_week</th>\n",
       "      <th>temp</th>\n",
       "      <th>mw</th>\n",
       "    </tr>\n",
       "  </thead>\n",
       "  <tbody>\n",
       "    <tr>\n",
       "      <th>0</th>\n",
       "      <td>2017</td>\n",
       "      <td>2</td>\n",
       "      <td>1</td>\n",
       "      <td>0</td>\n",
       "      <td>2</td>\n",
       "      <td>37.0</td>\n",
       "      <td>1419.881</td>\n",
       "    </tr>\n",
       "    <tr>\n",
       "      <th>1</th>\n",
       "      <td>2017</td>\n",
       "      <td>2</td>\n",
       "      <td>1</td>\n",
       "      <td>1</td>\n",
       "      <td>2</td>\n",
       "      <td>37.0</td>\n",
       "      <td>1379.505</td>\n",
       "    </tr>\n",
       "    <tr>\n",
       "      <th>2</th>\n",
       "      <td>2017</td>\n",
       "      <td>2</td>\n",
       "      <td>1</td>\n",
       "      <td>2</td>\n",
       "      <td>2</td>\n",
       "      <td>36.0</td>\n",
       "      <td>1366.106</td>\n",
       "    </tr>\n",
       "  </tbody>\n",
       "</table>\n",
       "</div>"
      ],
      "text/plain": [
       "   year  month  day  hour  day_of_week  temp        mw\n",
       "0  2017      2    1     0            2  37.0  1419.881\n",
       "1  2017      2    1     1            2  37.0  1379.505\n",
       "2  2017      2    1     2            2  36.0  1366.106"
      ]
     },
     "execution_count": 16,
     "metadata": {},
     "output_type": "execute_result"
    }
   ],
   "source": [
    "df = df.reset_index()\n",
    "df.head(3)"
   ]
  },
  {
   "cell_type": "code",
   "execution_count": 17,
   "id": "9c2d5850",
   "metadata": {
    "execution": {
     "iopub.execute_input": "2022-03-28T00:49:15.571393Z",
     "iopub.status.busy": "2022-03-28T00:49:15.570776Z",
     "iopub.status.idle": "2022-03-28T00:49:15.596555Z",
     "shell.execute_reply": "2022-03-28T00:49:15.597134Z",
     "shell.execute_reply.started": "2022-03-28T00:48:20.134708Z"
    },
    "papermill": {
     "duration": 0.066119,
     "end_time": "2022-03-28T00:49:15.597300",
     "exception": false,
     "start_time": "2022-03-28T00:49:15.531181",
     "status": "completed"
    },
    "tags": []
   },
   "outputs": [
    {
     "name": "stdout",
     "output_type": "stream",
     "text": [
      "year                    int64\n",
      "month                   int64\n",
      "day                     int64\n",
      "hour                    int64\n",
      "day_of_week             int64\n",
      "temp                  float64\n",
      "mw                    float64\n",
      "date           datetime64[ns]\n",
      "dtype: object\n"
     ]
    },
    {
     "data": {
      "text/html": [
       "<div>\n",
       "<style scoped>\n",
       "    .dataframe tbody tr th:only-of-type {\n",
       "        vertical-align: middle;\n",
       "    }\n",
       "\n",
       "    .dataframe tbody tr th {\n",
       "        vertical-align: top;\n",
       "    }\n",
       "\n",
       "    .dataframe thead th {\n",
       "        text-align: right;\n",
       "    }\n",
       "</style>\n",
       "<table border=\"1\" class=\"dataframe\">\n",
       "  <thead>\n",
       "    <tr style=\"text-align: right;\">\n",
       "      <th></th>\n",
       "      <th>year</th>\n",
       "      <th>month</th>\n",
       "      <th>day</th>\n",
       "      <th>hour</th>\n",
       "      <th>day_of_week</th>\n",
       "      <th>temp</th>\n",
       "      <th>mw</th>\n",
       "      <th>date</th>\n",
       "    </tr>\n",
       "  </thead>\n",
       "  <tbody>\n",
       "    <tr>\n",
       "      <th>0</th>\n",
       "      <td>2017</td>\n",
       "      <td>2</td>\n",
       "      <td>1</td>\n",
       "      <td>0</td>\n",
       "      <td>2</td>\n",
       "      <td>37.0</td>\n",
       "      <td>1419.881</td>\n",
       "      <td>2017-02-01 00:00:00</td>\n",
       "    </tr>\n",
       "    <tr>\n",
       "      <th>1</th>\n",
       "      <td>2017</td>\n",
       "      <td>2</td>\n",
       "      <td>1</td>\n",
       "      <td>1</td>\n",
       "      <td>2</td>\n",
       "      <td>37.0</td>\n",
       "      <td>1379.505</td>\n",
       "      <td>2017-02-01 01:00:00</td>\n",
       "    </tr>\n",
       "    <tr>\n",
       "      <th>2</th>\n",
       "      <td>2017</td>\n",
       "      <td>2</td>\n",
       "      <td>1</td>\n",
       "      <td>2</td>\n",
       "      <td>2</td>\n",
       "      <td>36.0</td>\n",
       "      <td>1366.106</td>\n",
       "      <td>2017-02-01 02:00:00</td>\n",
       "    </tr>\n",
       "  </tbody>\n",
       "</table>\n",
       "</div>"
      ],
      "text/plain": [
       "   year  month  day  hour  day_of_week  temp        mw                date\n",
       "0  2017      2    1     0            2  37.0  1419.881 2017-02-01 00:00:00\n",
       "1  2017      2    1     1            2  37.0  1379.505 2017-02-01 01:00:00\n",
       "2  2017      2    1     2            2  36.0  1366.106 2017-02-01 02:00:00"
      ]
     },
     "execution_count": 17,
     "metadata": {},
     "output_type": "execute_result"
    }
   ],
   "source": [
    "df['date'] = pd.to_datetime(dict(year=df.year, month=df.month, day=df.day, hour=df.hour))\n",
    "print(df.dtypes)\n",
    "df.head(3)"
   ]
  },
  {
   "cell_type": "code",
   "execution_count": 18,
   "id": "602c2b4d",
   "metadata": {
    "execution": {
     "iopub.execute_input": "2022-03-28T00:49:15.675807Z",
     "iopub.status.busy": "2022-03-28T00:49:15.675114Z",
     "iopub.status.idle": "2022-03-28T00:49:15.691866Z",
     "shell.execute_reply": "2022-03-28T00:49:15.691246Z",
     "shell.execute_reply.started": "2022-03-28T00:48:20.165703Z"
    },
    "papermill": {
     "duration": 0.056638,
     "end_time": "2022-03-28T00:49:15.692014",
     "exception": false,
     "start_time": "2022-03-28T00:49:15.635376",
     "status": "completed"
    },
    "tags": []
   },
   "outputs": [
    {
     "data": {
      "text/html": [
       "<div>\n",
       "<style scoped>\n",
       "    .dataframe tbody tr th:only-of-type {\n",
       "        vertical-align: middle;\n",
       "    }\n",
       "\n",
       "    .dataframe tbody tr th {\n",
       "        vertical-align: top;\n",
       "    }\n",
       "\n",
       "    .dataframe thead th {\n",
       "        text-align: right;\n",
       "    }\n",
       "</style>\n",
       "<table border=\"1\" class=\"dataframe\">\n",
       "  <thead>\n",
       "    <tr style=\"text-align: right;\">\n",
       "      <th></th>\n",
       "      <th>year</th>\n",
       "      <th>month</th>\n",
       "      <th>day</th>\n",
       "      <th>hour</th>\n",
       "      <th>weekday</th>\n",
       "      <th>temp</th>\n",
       "      <th>mw</th>\n",
       "    </tr>\n",
       "    <tr>\n",
       "      <th>date</th>\n",
       "      <th></th>\n",
       "      <th></th>\n",
       "      <th></th>\n",
       "      <th></th>\n",
       "      <th></th>\n",
       "      <th></th>\n",
       "      <th></th>\n",
       "    </tr>\n",
       "  </thead>\n",
       "  <tbody>\n",
       "    <tr>\n",
       "      <th>2017-02-01 00:00:00</th>\n",
       "      <td>2017</td>\n",
       "      <td>2</td>\n",
       "      <td>1</td>\n",
       "      <td>0</td>\n",
       "      <td>2</td>\n",
       "      <td>37.0</td>\n",
       "      <td>1419.881</td>\n",
       "    </tr>\n",
       "    <tr>\n",
       "      <th>2017-02-01 01:00:00</th>\n",
       "      <td>2017</td>\n",
       "      <td>2</td>\n",
       "      <td>1</td>\n",
       "      <td>1</td>\n",
       "      <td>2</td>\n",
       "      <td>37.0</td>\n",
       "      <td>1379.505</td>\n",
       "    </tr>\n",
       "    <tr>\n",
       "      <th>2017-02-01 02:00:00</th>\n",
       "      <td>2017</td>\n",
       "      <td>2</td>\n",
       "      <td>1</td>\n",
       "      <td>2</td>\n",
       "      <td>2</td>\n",
       "      <td>36.0</td>\n",
       "      <td>1366.106</td>\n",
       "    </tr>\n",
       "  </tbody>\n",
       "</table>\n",
       "</div>"
      ],
      "text/plain": [
       "                     year  month  day  hour  weekday  temp        mw\n",
       "date                                                                \n",
       "2017-02-01 00:00:00  2017      2    1     0        2  37.0  1419.881\n",
       "2017-02-01 01:00:00  2017      2    1     1        2  37.0  1379.505\n",
       "2017-02-01 02:00:00  2017      2    1     2        2  36.0  1366.106"
      ]
     },
     "execution_count": 18,
     "metadata": {},
     "output_type": "execute_result"
    }
   ],
   "source": [
    "df = df.set_index('date')\n",
    "df = df.rename(columns={'day_of_week':'weekday'})\n",
    "df.head(3)"
   ]
  },
  {
   "cell_type": "markdown",
   "id": "32bf6c7e",
   "metadata": {
    "papermill": {
     "duration": 0.038437,
     "end_time": "2022-03-28T00:49:15.769049",
     "exception": false,
     "start_time": "2022-03-28T00:49:15.730612",
     "status": "completed"
    },
    "tags": []
   },
   "source": [
    "### 2.6 Train/Test Split:\n",
    "* train = from 2017-02-01 to 2019-12-31\n",
    "* test = from 2020-01-01 to 2020-01-31"
   ]
  },
  {
   "cell_type": "code",
   "execution_count": 19,
   "id": "80e06f8b",
   "metadata": {
    "execution": {
     "iopub.execute_input": "2022-03-28T00:49:15.848355Z",
     "iopub.status.busy": "2022-03-28T00:49:15.847742Z",
     "iopub.status.idle": "2022-03-28T00:49:15.856954Z",
     "shell.execute_reply": "2022-03-28T00:49:15.856387Z",
     "shell.execute_reply.started": "2022-03-28T00:48:20.185453Z"
    },
    "papermill": {
     "duration": 0.050045,
     "end_time": "2022-03-28T00:49:15.857093",
     "exception": false,
     "start_time": "2022-03-28T00:49:15.807048",
     "status": "completed"
    },
    "tags": []
   },
   "outputs": [],
   "source": [
    "train = df[df.index.to_series().between('2017-01-01 00:00:00','2019-12-31 23:59:59') == True]\n",
    "test = df[df.index.to_series().between('2020-01-01 00:00:00','2020-12-31 23:39:59') == True]"
   ]
  },
  {
   "cell_type": "code",
   "execution_count": 20,
   "id": "04ad4c5b",
   "metadata": {
    "execution": {
     "iopub.execute_input": "2022-03-28T00:49:15.937014Z",
     "iopub.status.busy": "2022-03-28T00:49:15.936379Z",
     "iopub.status.idle": "2022-03-28T00:49:15.950505Z",
     "shell.execute_reply": "2022-03-28T00:49:15.951152Z",
     "shell.execute_reply.started": "2022-03-28T00:48:20.197496Z"
    },
    "papermill": {
     "duration": 0.055505,
     "end_time": "2022-03-28T00:49:15.951336",
     "exception": false,
     "start_time": "2022-03-28T00:49:15.895831",
     "status": "completed"
    },
    "tags": []
   },
   "outputs": [
    {
     "data": {
      "text/html": [
       "<div>\n",
       "<style scoped>\n",
       "    .dataframe tbody tr th:only-of-type {\n",
       "        vertical-align: middle;\n",
       "    }\n",
       "\n",
       "    .dataframe tbody tr th {\n",
       "        vertical-align: top;\n",
       "    }\n",
       "\n",
       "    .dataframe thead th {\n",
       "        text-align: right;\n",
       "    }\n",
       "</style>\n",
       "<table border=\"1\" class=\"dataframe\">\n",
       "  <thead>\n",
       "    <tr style=\"text-align: right;\">\n",
       "      <th></th>\n",
       "      <th>year</th>\n",
       "      <th>month</th>\n",
       "      <th>day</th>\n",
       "      <th>hour</th>\n",
       "      <th>weekday</th>\n",
       "      <th>temp</th>\n",
       "      <th>mw</th>\n",
       "    </tr>\n",
       "    <tr>\n",
       "      <th>date</th>\n",
       "      <th></th>\n",
       "      <th></th>\n",
       "      <th></th>\n",
       "      <th></th>\n",
       "      <th></th>\n",
       "      <th></th>\n",
       "      <th></th>\n",
       "    </tr>\n",
       "  </thead>\n",
       "  <tbody>\n",
       "    <tr>\n",
       "      <th>2017-02-01 00:00:00</th>\n",
       "      <td>2017</td>\n",
       "      <td>2</td>\n",
       "      <td>1</td>\n",
       "      <td>0</td>\n",
       "      <td>2</td>\n",
       "      <td>37.0</td>\n",
       "      <td>1419.881</td>\n",
       "    </tr>\n",
       "    <tr>\n",
       "      <th>2017-02-01 01:00:00</th>\n",
       "      <td>2017</td>\n",
       "      <td>2</td>\n",
       "      <td>1</td>\n",
       "      <td>1</td>\n",
       "      <td>2</td>\n",
       "      <td>37.0</td>\n",
       "      <td>1379.505</td>\n",
       "    </tr>\n",
       "    <tr>\n",
       "      <th>2017-02-01 02:00:00</th>\n",
       "      <td>2017</td>\n",
       "      <td>2</td>\n",
       "      <td>1</td>\n",
       "      <td>2</td>\n",
       "      <td>2</td>\n",
       "      <td>36.0</td>\n",
       "      <td>1366.106</td>\n",
       "    </tr>\n",
       "    <tr>\n",
       "      <th>2017-02-01 03:00:00</th>\n",
       "      <td>2017</td>\n",
       "      <td>2</td>\n",
       "      <td>1</td>\n",
       "      <td>3</td>\n",
       "      <td>2</td>\n",
       "      <td>36.0</td>\n",
       "      <td>1364.453</td>\n",
       "    </tr>\n",
       "    <tr>\n",
       "      <th>2017-02-01 04:00:00</th>\n",
       "      <td>2017</td>\n",
       "      <td>2</td>\n",
       "      <td>1</td>\n",
       "      <td>4</td>\n",
       "      <td>2</td>\n",
       "      <td>36.0</td>\n",
       "      <td>1391.265</td>\n",
       "    </tr>\n",
       "    <tr>\n",
       "      <th>...</th>\n",
       "      <td>...</td>\n",
       "      <td>...</td>\n",
       "      <td>...</td>\n",
       "      <td>...</td>\n",
       "      <td>...</td>\n",
       "      <td>...</td>\n",
       "      <td>...</td>\n",
       "    </tr>\n",
       "    <tr>\n",
       "      <th>2019-12-31 19:00:00</th>\n",
       "      <td>2019</td>\n",
       "      <td>12</td>\n",
       "      <td>31</td>\n",
       "      <td>19</td>\n",
       "      <td>1</td>\n",
       "      <td>32.0</td>\n",
       "      <td>1606.134</td>\n",
       "    </tr>\n",
       "    <tr>\n",
       "      <th>2019-12-31 20:00:00</th>\n",
       "      <td>2019</td>\n",
       "      <td>12</td>\n",
       "      <td>31</td>\n",
       "      <td>20</td>\n",
       "      <td>1</td>\n",
       "      <td>32.0</td>\n",
       "      <td>1565.014</td>\n",
       "    </tr>\n",
       "    <tr>\n",
       "      <th>2019-12-31 21:00:00</th>\n",
       "      <td>2019</td>\n",
       "      <td>12</td>\n",
       "      <td>31</td>\n",
       "      <td>21</td>\n",
       "      <td>1</td>\n",
       "      <td>32.0</td>\n",
       "      <td>1515.905</td>\n",
       "    </tr>\n",
       "    <tr>\n",
       "      <th>2019-12-31 22:00:00</th>\n",
       "      <td>2019</td>\n",
       "      <td>12</td>\n",
       "      <td>31</td>\n",
       "      <td>22</td>\n",
       "      <td>1</td>\n",
       "      <td>30.0</td>\n",
       "      <td>1474.519</td>\n",
       "    </tr>\n",
       "    <tr>\n",
       "      <th>2019-12-31 23:00:00</th>\n",
       "      <td>2019</td>\n",
       "      <td>12</td>\n",
       "      <td>31</td>\n",
       "      <td>23</td>\n",
       "      <td>1</td>\n",
       "      <td>30.0</td>\n",
       "      <td>1421.717</td>\n",
       "    </tr>\n",
       "  </tbody>\n",
       "</table>\n",
       "<p>25539 rows × 7 columns</p>\n",
       "</div>"
      ],
      "text/plain": [
       "                     year  month  day  hour  weekday  temp        mw\n",
       "date                                                                \n",
       "2017-02-01 00:00:00  2017      2    1     0        2  37.0  1419.881\n",
       "2017-02-01 01:00:00  2017      2    1     1        2  37.0  1379.505\n",
       "2017-02-01 02:00:00  2017      2    1     2        2  36.0  1366.106\n",
       "2017-02-01 03:00:00  2017      2    1     3        2  36.0  1364.453\n",
       "2017-02-01 04:00:00  2017      2    1     4        2  36.0  1391.265\n",
       "...                   ...    ...  ...   ...      ...   ...       ...\n",
       "2019-12-31 19:00:00  2019     12   31    19        1  32.0  1606.134\n",
       "2019-12-31 20:00:00  2019     12   31    20        1  32.0  1565.014\n",
       "2019-12-31 21:00:00  2019     12   31    21        1  32.0  1515.905\n",
       "2019-12-31 22:00:00  2019     12   31    22        1  30.0  1474.519\n",
       "2019-12-31 23:00:00  2019     12   31    23        1  30.0  1421.717\n",
       "\n",
       "[25539 rows x 7 columns]"
      ]
     },
     "execution_count": 20,
     "metadata": {},
     "output_type": "execute_result"
    }
   ],
   "source": [
    "train"
   ]
  },
  {
   "cell_type": "code",
   "execution_count": 21,
   "id": "0a714704",
   "metadata": {
    "execution": {
     "iopub.execute_input": "2022-03-28T00:49:16.032411Z",
     "iopub.status.busy": "2022-03-28T00:49:16.031817Z",
     "iopub.status.idle": "2022-03-28T00:49:16.047497Z",
     "shell.execute_reply": "2022-03-28T00:49:16.047955Z",
     "shell.execute_reply.started": "2022-03-28T00:48:20.221786Z"
    },
    "papermill": {
     "duration": 0.057878,
     "end_time": "2022-03-28T00:49:16.048138",
     "exception": false,
     "start_time": "2022-03-28T00:49:15.990260",
     "status": "completed"
    },
    "tags": []
   },
   "outputs": [
    {
     "data": {
      "text/html": [
       "<div>\n",
       "<style scoped>\n",
       "    .dataframe tbody tr th:only-of-type {\n",
       "        vertical-align: middle;\n",
       "    }\n",
       "\n",
       "    .dataframe tbody tr th {\n",
       "        vertical-align: top;\n",
       "    }\n",
       "\n",
       "    .dataframe thead th {\n",
       "        text-align: right;\n",
       "    }\n",
       "</style>\n",
       "<table border=\"1\" class=\"dataframe\">\n",
       "  <thead>\n",
       "    <tr style=\"text-align: right;\">\n",
       "      <th></th>\n",
       "      <th>year</th>\n",
       "      <th>month</th>\n",
       "      <th>day</th>\n",
       "      <th>hour</th>\n",
       "      <th>weekday</th>\n",
       "      <th>temp</th>\n",
       "      <th>mw</th>\n",
       "    </tr>\n",
       "    <tr>\n",
       "      <th>date</th>\n",
       "      <th></th>\n",
       "      <th></th>\n",
       "      <th></th>\n",
       "      <th></th>\n",
       "      <th></th>\n",
       "      <th></th>\n",
       "      <th></th>\n",
       "    </tr>\n",
       "  </thead>\n",
       "  <tbody>\n",
       "    <tr>\n",
       "      <th>2020-01-01 00:00:00</th>\n",
       "      <td>2020</td>\n",
       "      <td>1</td>\n",
       "      <td>1</td>\n",
       "      <td>0</td>\n",
       "      <td>2</td>\n",
       "      <td>31.0</td>\n",
       "      <td>1363.428</td>\n",
       "    </tr>\n",
       "    <tr>\n",
       "      <th>2020-01-01 01:00:00</th>\n",
       "      <td>2020</td>\n",
       "      <td>1</td>\n",
       "      <td>1</td>\n",
       "      <td>1</td>\n",
       "      <td>2</td>\n",
       "      <td>29.0</td>\n",
       "      <td>1335.975</td>\n",
       "    </tr>\n",
       "    <tr>\n",
       "      <th>2020-01-01 02:00:00</th>\n",
       "      <td>2020</td>\n",
       "      <td>1</td>\n",
       "      <td>1</td>\n",
       "      <td>2</td>\n",
       "      <td>2</td>\n",
       "      <td>30.0</td>\n",
       "      <td>1296.817</td>\n",
       "    </tr>\n",
       "    <tr>\n",
       "      <th>2020-01-01 03:00:00</th>\n",
       "      <td>2020</td>\n",
       "      <td>1</td>\n",
       "      <td>1</td>\n",
       "      <td>3</td>\n",
       "      <td>2</td>\n",
       "      <td>30.0</td>\n",
       "      <td>1288.403</td>\n",
       "    </tr>\n",
       "    <tr>\n",
       "      <th>2020-01-01 04:00:00</th>\n",
       "      <td>2020</td>\n",
       "      <td>1</td>\n",
       "      <td>1</td>\n",
       "      <td>4</td>\n",
       "      <td>2</td>\n",
       "      <td>31.0</td>\n",
       "      <td>1292.263</td>\n",
       "    </tr>\n",
       "    <tr>\n",
       "      <th>...</th>\n",
       "      <td>...</td>\n",
       "      <td>...</td>\n",
       "      <td>...</td>\n",
       "      <td>...</td>\n",
       "      <td>...</td>\n",
       "      <td>...</td>\n",
       "      <td>...</td>\n",
       "    </tr>\n",
       "    <tr>\n",
       "      <th>2020-01-31 19:00:00</th>\n",
       "      <td>2020</td>\n",
       "      <td>1</td>\n",
       "      <td>31</td>\n",
       "      <td>19</td>\n",
       "      <td>4</td>\n",
       "      <td>34.0</td>\n",
       "      <td>1618.484</td>\n",
       "    </tr>\n",
       "    <tr>\n",
       "      <th>2020-01-31 20:00:00</th>\n",
       "      <td>2020</td>\n",
       "      <td>1</td>\n",
       "      <td>31</td>\n",
       "      <td>20</td>\n",
       "      <td>4</td>\n",
       "      <td>33.0</td>\n",
       "      <td>1580.925</td>\n",
       "    </tr>\n",
       "    <tr>\n",
       "      <th>2020-01-31 21:00:00</th>\n",
       "      <td>2020</td>\n",
       "      <td>1</td>\n",
       "      <td>31</td>\n",
       "      <td>21</td>\n",
       "      <td>4</td>\n",
       "      <td>33.0</td>\n",
       "      <td>1545.354</td>\n",
       "    </tr>\n",
       "    <tr>\n",
       "      <th>2020-01-31 22:00:00</th>\n",
       "      <td>2020</td>\n",
       "      <td>1</td>\n",
       "      <td>31</td>\n",
       "      <td>22</td>\n",
       "      <td>4</td>\n",
       "      <td>33.0</td>\n",
       "      <td>1478.832</td>\n",
       "    </tr>\n",
       "    <tr>\n",
       "      <th>2020-01-31 23:00:00</th>\n",
       "      <td>2020</td>\n",
       "      <td>1</td>\n",
       "      <td>31</td>\n",
       "      <td>23</td>\n",
       "      <td>4</td>\n",
       "      <td>34.0</td>\n",
       "      <td>1405.188</td>\n",
       "    </tr>\n",
       "  </tbody>\n",
       "</table>\n",
       "<p>744 rows × 7 columns</p>\n",
       "</div>"
      ],
      "text/plain": [
       "                     year  month  day  hour  weekday  temp        mw\n",
       "date                                                                \n",
       "2020-01-01 00:00:00  2020      1    1     0        2  31.0  1363.428\n",
       "2020-01-01 01:00:00  2020      1    1     1        2  29.0  1335.975\n",
       "2020-01-01 02:00:00  2020      1    1     2        2  30.0  1296.817\n",
       "2020-01-01 03:00:00  2020      1    1     3        2  30.0  1288.403\n",
       "2020-01-01 04:00:00  2020      1    1     4        2  31.0  1292.263\n",
       "...                   ...    ...  ...   ...      ...   ...       ...\n",
       "2020-01-31 19:00:00  2020      1   31    19        4  34.0  1618.484\n",
       "2020-01-31 20:00:00  2020      1   31    20        4  33.0  1580.925\n",
       "2020-01-31 21:00:00  2020      1   31    21        4  33.0  1545.354\n",
       "2020-01-31 22:00:00  2020      1   31    22        4  33.0  1478.832\n",
       "2020-01-31 23:00:00  2020      1   31    23        4  34.0  1405.188\n",
       "\n",
       "[744 rows x 7 columns]"
      ]
     },
     "execution_count": 21,
     "metadata": {},
     "output_type": "execute_result"
    }
   ],
   "source": [
    "test"
   ]
  },
  {
   "cell_type": "code",
   "execution_count": 22,
   "id": "fe495e97",
   "metadata": {
    "execution": {
     "iopub.execute_input": "2022-03-28T00:49:16.134164Z",
     "iopub.status.busy": "2022-03-28T00:49:16.133549Z",
     "iopub.status.idle": "2022-03-28T00:49:16.139431Z",
     "shell.execute_reply": "2022-03-28T00:49:16.140068Z",
     "shell.execute_reply.started": "2022-03-28T00:48:20.242438Z"
    },
    "papermill": {
     "duration": 0.051055,
     "end_time": "2022-03-28T00:49:16.140239",
     "exception": false,
     "start_time": "2022-03-28T00:49:16.089184",
     "status": "completed"
    },
    "tags": []
   },
   "outputs": [
    {
     "name": "stdout",
     "output_type": "stream",
     "text": [
      "df: 26283\n",
      "train: 25539\n",
      "test: 744\n",
      "train+test = df: 26283 = 26283\n"
     ]
    }
   ],
   "source": [
    "# let's confirm that we didn't miss any rows when splitting dataset to train/test\n",
    "print(f'df: {df.shape[0]}')\n",
    "print(f'train: {train.shape[0]}')\n",
    "print(f'test: {test.shape[0]}')\n",
    "print(f'train+test = df: {train.shape[0]+test.shape[0]} = {df.shape[0]}')"
   ]
  },
  {
   "cell_type": "markdown",
   "id": "4004525b",
   "metadata": {
    "papermill": {
     "duration": 0.039005,
     "end_time": "2022-03-28T00:49:16.219074",
     "exception": false,
     "start_time": "2022-03-28T00:49:16.180069",
     "status": "completed"
    },
    "tags": []
   },
   "source": [
    "## Remark:\n",
    "* Train (25539)/Test(744) split is successfully completed with no data loss.\n",
    "* Now, we are ready to submit this assignment."
   ]
  },
  {
   "cell_type": "markdown",
   "id": "f80c194c",
   "metadata": {
    "papermill": {
     "duration": 0.03942,
     "end_time": "2022-03-28T00:49:16.298348",
     "exception": false,
     "start_time": "2022-03-28T00:49:16.258928",
     "status": "completed"
    },
    "tags": []
   },
   "source": [
    "### "
   ]
  }
 ],
 "metadata": {
  "kernelspec": {
   "display_name": "Python 3",
   "language": "python",
   "name": "python3"
  },
  "language_info": {
   "codemirror_mode": {
    "name": "ipython",
    "version": 3
   },
   "file_extension": ".py",
   "mimetype": "text/x-python",
   "name": "python",
   "nbconvert_exporter": "python",
   "pygments_lexer": "ipython3",
   "version": "3.7.12"
  },
  "papermill": {
   "default_parameters": {},
   "duration": 18.389875,
   "end_time": "2022-03-28T00:49:16.947952",
   "environment_variables": {},
   "exception": null,
   "input_path": "__notebook__.ipynb",
   "output_path": "__notebook__.ipynb",
   "parameters": {},
   "start_time": "2022-03-28T00:48:58.558077",
   "version": "2.3.3"
  }
 },
 "nbformat": 4,
 "nbformat_minor": 5
}
